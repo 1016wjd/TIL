{
 "cells": [
  {
   "cell_type": "markdown",
   "metadata": {},
   "source": [
    "scipy.stats\n",
    "│\n",
    "├── 01 T-test\n",
    "│   │\n",
    "│   ├── ttest_1samp         (단일표본 t검정)\n",
    "│   ├── ttest_ind           (독립표본 t검정)\n",
    "│   └── ttest_rel           (대응표본 t검정) \n",
    "│ \n",
    "├── 02 비모수 검정\n",
    "│   │\n",
    "│   ├── mannwhitneyu        (맨-휘트니 U 검정 - 중위수 , 윌콕슨 순위합 검정과 동일하다 볼 수 있음)\n",
    "│   ├── ranksums            (윌콕슨 순위합 검정 - 중위수)\n",
    "│   └── wilcoxon            (윌콕슨 부호 순위합 검정)\n",
    "│ \n",
    "├── 03 정규정 검정\n",
    "│   │\n",
    "│   ├── anderson            (Anderson-Darling , 데이터수가 상대적으로 많을 때)\n",
    "│   ├── kstest              (Kolmogorov-Smirnov , 데이터수가 상대적으로 많을 때)\n",
    "│   ├── mstats.normaltest\n",
    "│   └── shapiro             (shapiro, 노말분포 가장 엄격하게 검정, 데이터수가 상대적으로 적을때)\n",
    "│   \n",
    "├── 04 등분산 검정\n",
    "│   │\n",
    "│   ├── bartlett\n",
    "│   ├── fligner\n",
    "│   └── levene\n",
    "│\n",
    "├── 05 카이제곱검정\n",
    "│   │\n",
    "│   ├── chi2_contingency     (카이제곱독립검정, 독립성 검정)\n",
    "│   ├── chisquare            (카이제곱검정 , 적합도 검정)\n",
    "│   └── fisher_exact         (피셔 정확 검정 - 빈도수가 5개 이하 셀의 수가 전체 셀의 20%이상일 경우 사용 )\n",
    "│\n",
    "└── 06 ANOVA (일원분산분석)\n",
    "    │\n",
    "    └── f_oneway (분산 분석은  statmodels 모듈이 더 좋음! )"
   ]
  },
  {
   "cell_type": "markdown",
   "metadata": {},
   "source": [
    "### 정규성검정\n",
    "- H0: 정규분포를 따른다 H1: 정규분포를 따르지 않는다 "
   ]
  },
  {
   "cell_type": "code",
   "execution_count": 7,
   "metadata": {},
   "outputs": [
    {
     "name": "stdout",
     "output_type": "stream",
     "text": [
      "ShapiroResult(statistic=0.9981444478034973, pvalue=0.34849318861961365)\n",
      "0.9981444478034973\n",
      "0.34849318861961365\n",
      "0.9981 0.3485\n"
     ]
    }
   ],
   "source": [
    "import pandas as pd \n",
    "df = pd.read_csv('https://raw.githubusercontent.com/Datamanim/datarepo/main/scipy/normal1.csv')\n",
    "# df.data\n",
    "\n",
    "# 정규성검정 \n",
    "# H0: 정규분포를 따른다 H1: 정규분포를 따르지 않는다 \n",
    "\n",
    "from scipy.stats import shapiro # 샤피로테스트 정규성검정 \n",
    "print(shapiro(df))\n",
    "print(shapiro(df)[0])\n",
    "print(shapiro(df)[1])\n",
    "\n",
    "statistic , pvalue = shapiro(df)\n",
    "print(round(statistic,4), round(pvalue,4))\n",
    "# 귀무가설 채택 > 정규성을 만족한다 \n"
   ]
  },
  {
   "cell_type": "code",
   "execution_count": 17,
   "metadata": {},
   "outputs": [
    {
     "name": "stdout",
     "output_type": "stream",
     "text": [
      "         data\n",
      "0    0.631349\n",
      "1   -0.021856\n",
      "2    0.412035\n",
      "3    0.165041\n",
      "4    0.401308\n",
      "..        ...\n",
      "995 -0.261274\n",
      "996  0.084123\n",
      "997  0.501592\n",
      "998  1.249866\n",
      "999  0.533421\n",
      "\n",
      "[1000 rows x 1 columns]\n"
     ]
    }
   ],
   "source": [
    "import pandas as pd\n",
    "import numpy as np \n",
    "df = pd.read_csv('https://raw.githubusercontent.com/Datamanim/datarepo/main/scipy/normal3.csv')\n",
    "df.head()\n",
    "\n",
    "from scipy.stats import shapiro\n",
    "print(shapiro(df['data']))\n",
    "# 귀무가설 채택 > 정규성 만족\n",
    "# print(np.log1p(df)) > 로그변환하고 정규성 검정 가능 "
   ]
  },
  {
   "cell_type": "markdown",
   "metadata": {},
   "source": [
    "### 단일 표본 t검정(one-sample)\n",
    "\n",
    "- H0 : m=165 "
   ]
  },
  {
   "cell_type": "code",
   "execution_count": 30,
   "metadata": {},
   "outputs": [
    {
     "data": {
      "text/plain": [
       "TtestResult(statistic=3.2017884987150644, pvalue=0.0018367171548080209, df=99)"
      ]
     },
     "execution_count": 30,
     "metadata": {},
     "output_type": "execute_result"
    }
   ],
   "source": [
    "import pandas as pd \n",
    "df = pd.read_csv('https://raw.githubusercontent.com/Datamanim/datarepo/main/scipy/height1.csv')\n",
    "\n",
    "from scipy.stats import shapiro\n",
    "shapiro(df['height'])\n",
    "# 귀무가설 채택 > 정규분포를 따른다 > 단일표본 검정으로 확인한다 \n",
    "\n",
    "# import scipy.stats\n",
    "# print(scipy.stats.__all__)\n",
    "\n",
    "from scipy.stats import ttest_1samp\n",
    "\n",
    "# H0 : m=165 \n",
    "ttest_1samp(df['height'], 165)\n",
    "# 귀무가설 기각 따라서 평균은 165가 아니다 "
   ]
  },
  {
   "cell_type": "code",
   "execution_count": 35,
   "metadata": {},
   "outputs": [
    {
     "name": "stdout",
     "output_type": "stream",
     "text": [
      "ShapiroResult(statistic=0.9672006368637085, pvalue=0.013552471995353699)\n"
     ]
    },
    {
     "data": {
      "text/plain": [
       "WilcoxonResult(statistic=1952.0, pvalue=0.04880534424649582)"
      ]
     },
     "execution_count": 35,
     "metadata": {},
     "output_type": "execute_result"
    }
   ],
   "source": [
    "import pandas as pd \n",
    "df = pd.read_csv('https://raw.githubusercontent.com/Datamanim/datarepo/main/scipy/height2.csv')\n",
    "# print(df)\n",
    "\n",
    "from scipy.stats import shapiro\n",
    "print(shapiro(df))\n",
    "# 귀무가설 기각 > 정규분포를 따르지 않으므로 윌콕슨순위부호검정실시\n",
    "\n",
    "from scipy.stats import wilcoxon\n",
    "wilcoxon(df['height']-165)\n",
    "# 귀무가설기각 > 평균은 165가 아니다! ㅎㅎ "
   ]
  },
  {
   "cell_type": "markdown",
   "metadata": {},
   "source": [
    "### 등분산검정 \n",
    "- H0 : 등분산이다 "
   ]
  },
  {
   "cell_type": "code",
   "execution_count": 49,
   "metadata": {},
   "outputs": [
    {
     "name": "stdout",
     "output_type": "stream",
     "text": [
      "ShapiroResult(statistic=0.9538977146148682, pvalue=4.097050521068013e-08)\n",
      "ShapiroResult(statistic=0.9422046542167664, pvalue=1.1735706948456937e-06)\n"
     ]
    },
    {
     "data": {
      "text/plain": [
       "BartlettResult(statistic=0.26035880448930865, pvalue=0.609873758447687)"
      ]
     },
     "execution_count": 49,
     "metadata": {},
     "output_type": "execute_result"
    }
   ],
   "source": [
    "import pandas as pd \n",
    "df = pd.read_csv('https://raw.githubusercontent.com/Datamanim/datarepo/main/scipy/scipy2.csv')\n",
    "# df\n",
    "df_A = df[df['class'] == 'A']\n",
    "df_B = df[df['class'] == 'B']\n",
    "\n",
    "from scipy.stats import shapiro\n",
    "\n",
    "print(shapiro(df_A['score']))\n",
    "print(shapiro(df_B['score']))\n",
    "# 두 그룹모드 귀무가설 채택 > 정규분포 따름 > 둘중 하나라도 정규분포를 따르지 않는다면 윌콕슨 이용 \n",
    "\n",
    "# 등분산검정\n",
    "\n",
    "from scipy.stats import bartlett\n",
    "bartlett(df_A['score'], df_B['score'])\n",
    "# 귀무가설 채택 등분산이다\n",
    "\n"
   ]
  },
  {
   "cell_type": "markdown",
   "metadata": {},
   "source": [
    "### 독립표본검정\n",
    "- H0 : m1 = m2"
   ]
  },
  {
   "cell_type": "code",
   "execution_count": 98,
   "metadata": {},
   "outputs": [
    {
     "name": "stdout",
     "output_type": "stream",
     "text": [
      "등분산검정 levence\n",
      "LeveneResult(statistic=2.5337683795339547, pvalue=0.11302904824468704)\n",
      "TtestResult(statistic=2.7671907368517195, pvalue=0.00619015106792926, df=198.0)\n",
      "\n",
      "등분산검정 bartlett 등분산이 아닌경우\n",
      "BartlettResult(statistic=4.170597307474754, pvalue=0.04113129672708929)\n",
      "TtestResult(statistic=2.7671907368517195, pvalue=0.006212856853307455, df=190.11841510002813)\n",
      "\n"
     ]
    }
   ],
   "source": [
    "df1 = pd.read_csv('https://raw.githubusercontent.com/Datamanim/datarepo/main/scipy/ind1.csv')\n",
    "df2 = pd.read_csv('https://raw.githubusercontent.com/Datamanim/datarepo/main/scipy/ind2.csv')\n",
    "\n",
    "# print(df1.head())\n",
    "# print(df2.head())\n",
    "\n",
    "from scipy.stats import shapiro\n",
    "print(shapiro(df1))\n",
    "print(shapiro(df2))\n",
    "# 귀무가설 채택 > 두 표본 모두 정규분포를 따른다 > 등분산검정\n",
    "\n",
    "# 정규성을 따르지 않는 경우 비모수검정 실시 \n",
    "from scipy.stats import ranksums\n",
    "print(ranksums(df1['data'], df2['data']))\n",
    "# 귀무가설기각 두 시험성적에는 차이가 있다 \n",
    "\n",
    "\n",
    "## 등분산검정\n",
    "from scipy.stats import levene\n",
    "print(levene(df1['data'],df2['data']))\n",
    "# 등분산임.. 다른결과 ㅎㅎ \n",
    "\n",
    "from scipy.stats import ttest_ind\n",
    "print(ttest_ind(df1['data'],df2['data'], equal_var=True,alternative='two-sided'))\n",
    "print()\n",
    "# 귀무가설 기각 차이가 있다 \n",
    "\n",
    "## 등분산이 아닌 경우\n",
    "from scipy.stats import bartlett\n",
    "print('등분산검정 bartlett 등분산이 아닌경우')\n",
    "print(bartlett(df1['data'], df2['data']))\n",
    "# 귀무가설기각 > 등분산이 아니다 \n",
    "\n",
    "\n",
    "from scipy.stats import ttest_ind\n",
    "print(ttest_ind(df1['data'],df2['data'], equal_var=False ,alternative='two-sided'))\n",
    "print()"
   ]
  },
  {
   "cell_type": "markdown",
   "metadata": {},
   "source": [
    "### 대응표본 t검정\n",
    "- H0 : m1 - m2 = 0"
   ]
  },
  {
   "cell_type": "code",
   "execution_count": 96,
   "metadata": {},
   "outputs": [
    {
     "name": "stdout",
     "output_type": "stream",
     "text": [
      "ShapiroResult(statistic=0.9897251129150391, pvalue=0.5101333856582642)\n",
      "TtestResult(statistic=-2.5535473487670677, pvalue=0.011926744724546513, df=119)\n"
     ]
    },
    {
     "data": {
      "text/plain": [
       "WilcoxonResult(statistic=2577.0, pvalue=0.005821508354384095)"
      ]
     },
     "execution_count": 96,
     "metadata": {},
     "output_type": "execute_result"
    }
   ],
   "source": [
    "import pandas as pd \n",
    "df = pd.read_csv('https://raw.githubusercontent.com/Datamanim/datarepo/main/scipy/rel2.csv')\n",
    "# df.head()\n",
    "\n",
    "# 정규성 확인 > 차이값에 대해 정규성 확인 \n",
    "from scipy.stats import shapiro\n",
    "print(shapiro(df['before'] - df['after']))\n",
    "# 귀무가설 채택 > 정규분포를 따른다  \n",
    "# 정규성 만족 > ttest_rel / 정규성 만족 X > wilcoxon\n",
    "\n",
    "\n",
    "# from scipy.stats import bartlett\n",
    "# print(bartlett(df['before'], df['after']))\n",
    "# # 등분산성 만족 > 등분산성이 파라미터에 영향을 주지 않음 \n",
    "\n",
    "from scipy.stats import ttest_rel\n",
    "print(ttest_rel(df['before'], df['after']))\n",
    "# 귀무가설 기각 전과 후의 평균이 같지 않다.\n",
    "\n",
    "\n",
    "# # 정규성을 따르지 않을경우 윌콕슨 \n",
    "from scipy.stats import wilcoxon\n",
    "wilcoxon(df['before']- df['after'])\n",
    "# 귀무가설기각 전과 후의 평균이 같지 않다.\n"
   ]
  },
  {
   "cell_type": "markdown",
   "metadata": {},
   "source": [
    "### 모집단 3개이상 \n",
    "- H0 : 귀무가설 Ma=Mb=Mc / H1: 적어도 하나는 같지않다\n"
   ]
  },
  {
   "cell_type": "code",
   "execution_count": null,
   "metadata": {},
   "outputs": [],
   "source": [
    "# 1. 가설검정 / 유의수준 확인 \n",
    "# 2. 정규성검정(shapiro) A,B,C 모두 정규분포를 따라야함 \n",
    "# 3. 등분산검정(bartlett(df['A'],df['B'],df['C']))\n",
    "# 4. 분석\n",
    "\n",
    "# 4-1 정규성 o 등분산성 o > 등분산성을 만족하지 않는 경우의 패키지 활용불가\n",
    "# 분산분석 f_oneway \n",
    "import scipy.stats as stats\n",
    "stats.f_oneway(df['A'],df['B'],df['C'])\n",
    "\n",
    "# 4-2 정규성 x \n",
    "# 크루스칼 왈리스 검정 \n",
    "import scipy.stats as stats\n",
    "stats.kruskal(df['A'],df['B'],df['C'])\n",
    "\n"
   ]
  },
  {
   "cell_type": "markdown",
   "metadata": {},
   "source": [
    "## 카이제곱검정(교차분석) \n",
    "\n",
    "> 일원 카이제곱검정 (chisquare ,적합도검정)  \n",
    "\n",
    " 한 개의 요인에 의해 k개의 범주를 가질때 이론적 분포를 따르는지 검정\n",
    "\n",
    "\n",
    "\n",
    "> 이원 카이제곱 검정(chi2_contingency(카이제곱 독립검정), fisher_exact(빈도수 5개 이하의 셀이 20% 이상))\n",
    "\n",
    "모집단이 두개의 변수에 의해 범주화 되었을 때, 두 변수들 사이의 관계가 독립인지 아닌지 검정\n",
    "\n",
    "\n",
    "\n"
   ]
  },
  {
   "cell_type": "markdown",
   "metadata": {},
   "source": [
    "### 일원카이제곱검정\n",
    "\n",
    "- H0: 각 주사위 눈금 발생비율은 동일"
   ]
  },
  {
   "cell_type": "code",
   "execution_count": 108,
   "metadata": {},
   "outputs": [
    {
     "data": {
      "text/plain": [
       "Power_divergenceResult(statistic=2.333333333333333, pvalue=0.8013589222076911)"
      ]
     },
     "execution_count": 108,
     "metadata": {},
     "output_type": "execute_result"
    }
   ],
   "source": [
    "import pandas as pd\n",
    "df = pd.read_csv('https://raw.githubusercontent.com/Datamanim/datarepo/main/scipy/dice.csv')\n",
    "# print(df.head())\n",
    "\n",
    "from scipy.stats import chisquare\n",
    "\n",
    "# 기대도수 구해야함 \n",
    "df['exp'] = (df['counts'].sum()/6).astype(int)\n",
    "chisquare(df.counts, df.exp)\n",
    "\n",
    "# 동일하다 "
   ]
  },
  {
   "cell_type": "code",
   "execution_count": 141,
   "metadata": {},
   "outputs": [
    {
     "data": {
      "text/plain": [
       "Power_divergenceResult(statistic=5.0, pvalue=0.025347318677468325)"
      ]
     },
     "execution_count": 141,
     "metadata": {},
     "output_type": "execute_result"
    }
   ],
   "source": [
    "df = pd.read_csv('https://raw.githubusercontent.com/Datamanim/datarepo/main/scipy/hands2.csv')\n",
    "target = df.value_counts().to_frame()\n",
    "target['exp'] = [target['count'].sum() * 0.8, target['count'].sum() *0.2] \n",
    "target\n",
    "\n",
    "from scipy.stats import chisquare\n",
    "chisquare(target['count'], target['exp'])\n",
    "\n"
   ]
  },
  {
   "cell_type": "markdown",
   "metadata": {},
   "source": [
    "### 독립성검정 \n",
    "\n",
    "- H0: 독립이다 / 연관이 없다 \n",
    "- H1 :  성별과 등급간 관련이 있다 \n"
   ]
  },
  {
   "cell_type": "code",
   "execution_count": 153,
   "metadata": {},
   "outputs": [
    {
     "name": "stdout",
     "output_type": "stream",
     "text": [
      "Chi2ContingencyResult(statistic=120.06233631119409, pvalue=7.481892813401677e-26, dof=3, expected_freq=array([[1220.25, 1220.25, 1220.25, 1220.25],\n",
      "       [2128.75, 2128.75, 2128.75, 2128.75]]))\n"
     ]
    }
   ],
   "source": [
    "df = pd.read_csv('https://raw.githubusercontent.com/Datamanim/datarepo/main/body/body.csv')\n",
    "# target = df[['측정회원성별', '등급']].value_counts().unstack()\n",
    "target = pd.crosstab(df['측정회원성별'], df['등급'])\n",
    "\n",
    "from scipy.stats import chi2_contingency\n",
    "print(chi2_contingency(target))\n",
    "# 귀무가설기각 관련이 있다 "
   ]
  },
  {
   "cell_type": "code",
   "execution_count": 170,
   "metadata": {},
   "outputs": [
    {
     "name": "stdout",
     "output_type": "stream",
     "text": [
      "SignificanceResult(statistic=18.0, pvalue=0.03571428571428571)\n"
     ]
    }
   ],
   "source": [
    "df = pd.read_csv('https://raw.githubusercontent.com/Datamanim/datarepo/main/scipy/fe2.csv',index_col=0)\n",
    "\n",
    "target = df.iloc[:-1, :-1]\n",
    "# target\n",
    "\n",
    "from scipy.stats import chi2_contingency, fisher_exact\n",
    "chi2_contingency(target)\n",
    "\n",
    "# 귀무가설채택 > 독립이다\n",
    "\n",
    "# 하지만 5보다 작은 셀이 20%가 넘어가므로(75%) 피셔의 정확검정을 사용 해야한다.\n",
    "# 피셔의 정확검정시 0.03의 값을 가지므로 귀무가설을 기각한다. 성별과 참석여부는 관련이 있다. (독립이 아니다)) \n",
    "print(fisher_exact(target))\n",
    "# 귀무가설기각 > 독립이아니다"
   ]
  },
  {
   "cell_type": "markdown",
   "metadata": {},
   "source": [
    "### 다중 회귀분석 "
   ]
  },
  {
   "cell_type": "code",
   "execution_count": 14,
   "metadata": {},
   "outputs": [
    {
     "name": "stdout",
     "output_type": "stream",
     "text": [
      "                            OLS Regression Results                            \n",
      "==============================================================================\n",
      "Dep. Variable:                 target   R-squared:                       0.351\n",
      "Model:                            OLS   Adj. R-squared:                  0.346\n",
      "Method:                 Least Squares   F-statistic:                     78.94\n",
      "Date:                Mon, 27 Nov 2023   Prob (F-statistic):           7.77e-41\n",
      "Time:                        19:38:18   Log-Likelihood:                -2451.6\n",
      "No. Observations:                 442   AIC:                             4911.\n",
      "Df Residuals:                     438   BIC:                             4928.\n",
      "Df Model:                           3                                         \n",
      "Covariance Type:            nonrobust                                         \n",
      "==============================================================================\n",
      "                 coef    std err          t      P>|t|      [0.025      0.975]\n",
      "------------------------------------------------------------------------------\n",
      "const        152.1335      2.964     51.321      0.000     146.307     157.960\n",
      "age          138.9039     64.254      2.162      0.031      12.618     265.189\n",
      "sex          -36.1353     63.391     -0.570      0.569    -160.724      88.453\n",
      "bmi          926.9120     63.525     14.591      0.000     802.061    1051.763\n",
      "==============================================================================\n",
      "Omnibus:                       14.687   Durbin-Watson:                   1.851\n",
      "Prob(Omnibus):                  0.001   Jarque-Bera (JB):                8.290\n",
      "Skew:                           0.150   Prob(JB):                       0.0158\n",
      "Kurtosis:                       2.400   Cond. No.                         23.7\n",
      "==============================================================================\n",
      "\n",
      "Notes:\n",
      "[1] Standard Errors assume that the covariance matrix of the errors is correctly specified.\n"
     ]
    }
   ],
   "source": [
    "import pandas as pd \n",
    "import numpy as np \n",
    "\n",
    "\n",
    "from sklearn.datasets import load_diabetes\n",
    "\n",
    "diabetes = load_diabetes()\n",
    "x = pd.DataFrame(diabetes.data, columns=diabetes.feature_names)\n",
    "y = pd.DataFrame(diabetes.target)\n",
    "y.columns = ['target']\n",
    "# x.head()\n",
    "\n",
    "x = x[['age','sex','bmi']]\n",
    "\n",
    "# 모델링 \n",
    "## sklearn 라이브러리 활용하는 방법 \n",
    "# 1. 모델링 \n",
    "from sklearn.linear_model import LinearRegression\n",
    "model = LinearRegression()\n",
    "model.fit(x,y)\n",
    "model.score(x,y) #Rsq 결정계수 \n",
    "\n",
    "# 2. 회귀계수 \n",
    "np.round(model.coef_,2) # x1, x2, x3에 대한 회귀계수 \n",
    "np.round(model.intercept_,2) # 절편 \n",
    "\n",
    "## statsmodel, formula 활용 \n",
    "# 1. 모델링 \n",
    "import statsmodels.api as sm \n",
    "x = sm.add_constant(x) # 상수항 추가 \n",
    "model = sm.OLS(y, x).fit() # x, y 순서바뀜 \n",
    "summary = model.summary() \n",
    "print(summary)\n",
    "# 귀무가설 회귀계수 = 0\n"
   ]
  },
  {
   "cell_type": "markdown",
   "metadata": {},
   "source": [
    "### 상관분석 \n",
    "H0 : 선형관계가 존재하지 않는다 (로우 = 0)\n",
    "H1 : 선형관계가 존재한다 "
   ]
  },
  {
   "cell_type": "code",
   "execution_count": 18,
   "metadata": {},
   "outputs": [
    {
     "data": {
      "text/plain": [
       "15.18728957036531"
      ]
     },
     "execution_count": 18,
     "metadata": {},
     "output_type": "execute_result"
    }
   ],
   "source": [
    "# 데이터 로드 \n",
    "import pandas as pd \n",
    "import numpy as np \n",
    "from sklearn.datasets import load_diabetes\n",
    "diabetes = load_diabetes()\n",
    "x = pd.DataFrame(diabetes.data, columns=diabetes.feature_names)\n",
    "y = pd.DataFrame(diabetes.target)\n",
    "y.columns = ['target']\n",
    "\n",
    "# 상관분석할 2가지 변수 설정 \n",
    "x = x['bmi'] \n",
    "y = y['target']\n",
    "\n",
    "# 상관계수검정 \n",
    "from scipy.stats import pearsonr \n",
    "# pearsonr(x,y)\n",
    "r , pvalue = pearsonr(x,y)\n",
    "\n",
    "# 검정통계량 \n",
    "n = len(x) # 데이터의 수 \n",
    "r2 = r**2 # 상관계수의 제곱 \n",
    "statistic = r * ((n-2)**0.5) / ((1-r2)**0.5)\n",
    "statistic ## 통계량 \n",
    "\n",
    "## 귀무가설 기각  "
   ]
  },
  {
   "cell_type": "markdown",
   "metadata": {},
   "source": [
    "### 로지스틱 회귀분석 \n",
    "\n",
    "ln(p/1-p) = 회귀식 "
   ]
  },
  {
   "cell_type": "code",
   "execution_count": 31,
   "metadata": {},
   "outputs": [
    {
     "name": "stdout",
     "output_type": "stream",
     "text": [
      "Optimization terminated successfully.\n",
      "         Current function value: 0.483846\n",
      "         Iterations 6\n",
      "                           Logit Regression Results                           \n",
      "==============================================================================\n",
      "Dep. Variable:               survived   No. Observations:                  891\n",
      "Model:                          Logit   Df Residuals:                      887\n",
      "Method:                           MLE   Df Model:                            3\n",
      "Date:                Mon, 27 Nov 2023   Pseudo R-squ.:                  0.2734\n",
      "Time:                        20:11:26   Log-Likelihood:                -431.11\n",
      "converged:                       True   LL-Null:                       -593.33\n",
      "Covariance Type:            nonrobust   LLR p-value:                 5.094e-70\n",
      "==============================================================================\n",
      "                 coef    std err          z      P>|z|      [0.025      0.975]\n",
      "------------------------------------------------------------------------------\n",
      "const         -1.6964      0.129    -13.134      0.000      -1.950      -1.443\n",
      "sex            2.5668      0.179     14.321      0.000       2.216       2.918\n",
      "sibsp         -0.4017      0.095     -4.222      0.000      -0.588      -0.215\n",
      "fare           0.0138      0.003      5.367      0.000       0.009       0.019\n",
      "==============================================================================\n"
     ]
    },
    {
     "name": "stderr",
     "output_type": "stream",
     "text": [
      "c:\\Python\\python310\\lib\\site-packages\\sklearn\\utils\\validation.py:1183: DataConversionWarning: A column-vector y was passed when a 1d array was expected. Please change the shape of y to (n_samples, ), for example using ravel().\n",
      "  y = column_or_1d(y, warn=True)\n"
     ]
    }
   ],
   "source": [
    "import pandas as pd \n",
    "import numpy as np \n",
    "\n",
    "import seaborn as sns \n",
    "df = sns.load_dataset('titanic')\n",
    "# df.head()\n",
    "\n",
    "df = df[['survived', 'sex', 'sibsp','fare']]\n",
    "# df.head()\n",
    "\n",
    "df['sex'] = df['sex'].map({'female': 1 , 'male': 0})\n",
    "df.head()\n",
    "\n",
    "x = df.drop(columns=['survived'])\n",
    "y = df[['survived']]\n",
    "\n",
    "# 모델링 \n",
    "# 1. 사이킷런\n",
    "from sklearn.linear_model import LogisticRegression\n",
    "model = LogisticRegression(penalty=None) # 디폴트는 12이므로 꼭 설정해주기\n",
    "model.fit(x, y)\n",
    "\n",
    "model.coef_\n",
    "model.intercept_\n",
    "\n",
    "## 회귀계수 설명 \n",
    "# 1 . sibsp 변수가 한단위 증가할 때 생존할 오즈가 몇 배 증가하는가?\n",
    "np.exp(model.coef_[0,1]) \n",
    "# 해석 sivsp 변수가 한단위 증가할 때마다 생존할 오즈가 0.669배 증가한다 \n",
    "# 생존할 오즈가 감소한다 \n",
    "\n",
    "# 2. 로지스틱 회귀모형에서 여성일 경우 남성에 비해 오즈가 몇배 더 증가하는가?\n",
    "np.exp(model.coef_[0,0])\n",
    "# 오즈가 13.024배 증가 / 생존할 오즈가 13배 증가 \n",
    "\n",
    "## statsmodel, formula 활용 \n",
    "# 1. 모델링 \n",
    "import statsmodels.api as sm \n",
    "x = sm.add_constant(x) # 상수항 추가 \n",
    "model = sm.Logit(y, x).fit() # x, y 순서바뀜 \n",
    "summary = model.summary() \n",
    "print(summary)\n"
   ]
  },
  {
   "cell_type": "code",
   "execution_count": 28,
   "metadata": {},
   "outputs": [
    {
     "data": {
      "text/plain": [
       "0.6691783830064404"
      ]
     },
     "execution_count": 28,
     "metadata": {},
     "output_type": "execute_result"
    }
   ],
   "source": [
    "\n"
   ]
  },
  {
   "cell_type": "code",
   "execution_count": null,
   "metadata": {},
   "outputs": [],
   "source": []
  },
  {
   "cell_type": "code",
   "execution_count": null,
   "metadata": {},
   "outputs": [],
   "source": []
  },
  {
   "cell_type": "code",
   "execution_count": null,
   "metadata": {},
   "outputs": [],
   "source": []
  }
 ],
 "metadata": {
  "kernelspec": {
   "display_name": "Python 3",
   "language": "python",
   "name": "python3"
  },
  "language_info": {
   "codemirror_mode": {
    "name": "ipython",
    "version": 3
   },
   "file_extension": ".py",
   "mimetype": "text/x-python",
   "name": "python",
   "nbconvert_exporter": "python",
   "pygments_lexer": "ipython3",
   "version": "3.10.11"
  }
 },
 "nbformat": 4,
 "nbformat_minor": 2
}
